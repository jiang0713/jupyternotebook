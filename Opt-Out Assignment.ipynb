{
 "cells": [
  {
   "cell_type": "code",
   "execution_count": null,
   "id": "e6616571",
   "metadata": {},
   "outputs": [],
   "source": [
    "# import all necessary libs\n",
    "import requests\n",
    "import pandas as pd\n",
    "import matplotlib.pyplot as plot\n",
    "from arcgis.features import FeatureLayer\n",
    "from arcgis.gis import GIS\n",
    "from arcgis.mapping import WebMap\n",
    "from requests.packages.urllib3.exceptions import InsecureRequestWarning\n",
    "requests.packages.urllib3.disable_warnings(InsecureRequestWarning)"
   ]
  },
  {
   "cell_type": "code",
   "execution_count": null,
   "id": "cf140880",
   "metadata": {},
   "outputs": [],
   "source": [
    "# a function connects to the UToronto ArcGIS server and return the connection object\n",
    "# this function takes only one parameter - cid which represents the client_id \n",
    "def get_connect(cid=\"\"):\n",
    "    # print warning if no client id is provided\n",
    "    if not cid:\n",
    "        print(\"empty client id, please enter a valid client id to continue...\")\n",
    "    else:\n",
    "        gis = GIS(url=\"https://utoronto.maps.arcgis.com\",client_id=cid)\n",
    "        print(\"Successfully logged in as: \" + gis.properties.user.username)\n",
    "        return gis"
   ]
  },
  {
   "cell_type": "code",
   "execution_count": null,
   "id": "9e346c74",
   "metadata": {},
   "outputs": [],
   "source": [
    "print(\"Please enter a valid client id to continue:\")\n",
    "client_id = input()\n",
    "# execute get_connect function to create connection object \n",
    "my_gis = get_connect(client_id)"
   ]
  },
  {
   "cell_type": "code",
   "execution_count": null,
   "id": "11d6940f",
   "metadata": {},
   "outputs": [],
   "source": [
    "# get the desired item by doing a search with title and owner as a filter\n",
    "item = my_gis.content.search(\n",
    "    query=\"title:Coronavirus COVID-19 Cases V2 owner:CSSE_covid19\", \n",
    "    item_type=\"Feature Layer\",\n",
    "    outside_org=True)[0]\n",
    "item"
   ]
  },
  {
   "cell_type": "code",
   "execution_count": null,
   "id": "0ae23cb5",
   "metadata": {},
   "outputs": [],
   "source": [
    "# get the feature layer object\n",
    "fl = FeatureLayer(url=item.url + \"/1\")"
   ]
  },
  {
   "cell_type": "code",
   "execution_count": null,
   "id": "575cff03",
   "metadata": {},
   "outputs": [],
   "source": [
    "map1 = my_gis.map(\"Australia\")\n",
    "\n",
    "map1.add_layer(fl, { \"type\": \"FeatureLayer\",\n",
    "                     \"renderer\":\"ClassedSizeRenderer\",\n",
    "                     \"field_name\":\"Confirmed\"})\n",
    "\n",
    "map1.zoom=3 # size to zoom\n",
    "map1.legend=True # show the legend\n",
    "\n",
    "map1"
   ]
  },
  {
   "cell_type": "code",
   "execution_count": null,
   "id": "837caab0",
   "metadata": {},
   "outputs": [],
   "source": [
    "# get the Australia DataFrame\n",
    "my_df = fl.query(where=\"Country_Region='Australia'\", as_df=True)"
   ]
  },
  {
   "cell_type": "code",
   "execution_count": null,
   "id": "1ebd0125",
   "metadata": {},
   "outputs": [],
   "source": [
    "map2 = my_gis.map(\"Australia\")\n",
    "\n",
    "my_df.spatial.plot(kind='map', \n",
    "                   map_widget=map2,\n",
    "                   renderer_type='c',\n",
    "                   method='esriClassifyStandardDeviation',\n",
    "                   class_count=8,\n",
    "                   col='Deaths',\n",
    "                   cmap='viridis',\n",
    "                   alpha=0.6,\n",
    "                  )\n",
    "\n",
    "map2.zoom = 3 # size to zoom\n",
    "map2.legend = True # show the legend\n",
    "\n",
    "map2"
   ]
  },
  {
   "cell_type": "code",
   "execution_count": null,
   "id": "e6345415",
   "metadata": {},
   "outputs": [],
   "source": [
    "# a brief summary of the latest updated cases per province of Australia\n",
    "df_australia = my_df[[\"Province_State\", \"Last_Update\", \"Confirmed\", \"Recovered\", \"Deaths\"]]\n",
    "df_australia"
   ]
  },
  {
   "cell_type": "code",
   "execution_count": null,
   "id": "64a71984",
   "metadata": {},
   "outputs": [],
   "source": [
    "# A function returns the province with the largest value for a given column name\n",
    "def get_largest_prov(df, col):\n",
    "    # invalid column name, print error message\n",
    "    if col not in df:\n",
    "        print(\"The given column \" + col + \"does not exist\")\n",
    "    else:\n",
    "        return df.nlargest(1, [col])[[\"Province_State\", col]] # Pandas method to get n largest values for the given column\n",
    "    \n",
    "# A function returns the province with the smallest value for a given column name\n",
    "def get_smallest_prov(df, col):\n",
    "    # invalid column name, print error message\n",
    "    if col not in df:\n",
    "        print(\"The given column does not exist\")\n",
    "    else:\n",
    "        return df.nsmallest(1, [col])[[\"Province_State\", col]] # Pandas method to get n smallest values for the given column"
   ]
  },
  {
   "cell_type": "code",
   "execution_count": null,
   "id": "0eb48bf3",
   "metadata": {},
   "outputs": [],
   "source": [
    "print(\"The province with the highest confirmed cases in the latest update\")\n",
    "get_largest_prov(df_australia, \"Confirmed\")"
   ]
  },
  {
   "cell_type": "code",
   "execution_count": null,
   "id": "02f67619",
   "metadata": {},
   "outputs": [],
   "source": [
    "print(\"The province with the lowest confirmed cases in the latest update\")\n",
    "get_smallest_prov(df_australia, \"Confirmed\")"
   ]
  },
  {
   "cell_type": "code",
   "execution_count": null,
   "id": "635aef68",
   "metadata": {},
   "outputs": [],
   "source": [
    "print(\"The province with the highest deaths in the latest update\")\n",
    "get_largest_prov(df_australia, \"Deaths\")"
   ]
  },
  {
   "cell_type": "code",
   "execution_count": null,
   "id": "a1931686",
   "metadata": {},
   "outputs": [],
   "source": [
    "print(\"The province with the lowest deaths in the latest update\")\n",
    "get_smallest_prov(df_australia, \"Deaths\")"
   ]
  },
  {
   "cell_type": "code",
   "execution_count": null,
   "id": "3b653e6d",
   "metadata": {},
   "outputs": [],
   "source": [
    "# a bar chart to display number of confirmed and deaths in each province in the latest update\n",
    "\n",
    "bar = df_australia[[\"Province_State\", \"Confirmed\", \"Deaths\"]].plot.bar(x=\"Province_State\", \n",
    "                                                                       rot=90, \n",
    "                                                                       title=\"Number of Confirmed / Deaths per Province\");\n",
    "\n",
    "plot.show(block=True)"
   ]
  },
  {
   "cell_type": "code",
   "execution_count": null,
   "id": "17c6502e",
   "metadata": {},
   "outputs": [],
   "source": [
    "# a scatter chart to display number of deaths in each province in the latest update\n",
    "\n",
    "scatter = df_australia.plot.scatter(x=\"Province_State\",\n",
    "                                    y='Deaths',\n",
    "                                    c='Black', \n",
    "                                    rot=90, \n",
    "                                    title=\"Number of Deaths per Province\")"
   ]
  },
  {
   "cell_type": "code",
   "execution_count": null,
   "id": "8eb3d2cb",
   "metadata": {},
   "outputs": [],
   "source": [
    "# a pie chart to display number of confirmed in each province in the latest update\n",
    "\n",
    "# we only need 2 columns - Province_State and Confirmed\n",
    "df_pie = df_australia[[\"Province_State\", \"Confirmed\"]]\n",
    "\n",
    "# make column Province_State as the index of the sub DataFrame\n",
    "df_pie.index = df_pie[\"Province_State\"]\n",
    "\n",
    "# plot the chart\n",
    "pie = df_pie.plot.pie(y=\"Confirmed\", figsize=(6, 6), title=\"Number of Confirmed per Province\")"
   ]
  }
 ],
 "metadata": {
  "kernelspec": {
   "display_name": "Python 3",
   "language": "python",
   "name": "python3"
  },
  "language_info": {
   "codemirror_mode": {
    "name": "ipython",
    "version": 3
   },
   "file_extension": ".py",
   "mimetype": "text/x-python",
   "name": "python",
   "nbconvert_exporter": "python",
   "pygments_lexer": "ipython3",
   "version": "3.8.8"
  }
 },
 "nbformat": 4,
 "nbformat_minor": 5
}
