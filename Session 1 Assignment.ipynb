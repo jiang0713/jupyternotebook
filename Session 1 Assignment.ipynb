{
 "cells": [
  {
   "cell_type": "code",
   "execution_count": 71,
   "id": "c9ddedaf-b3ab-489b-81a0-29ef521843fd",
   "metadata": {},
   "outputs": [
    {
     "name": "stdout",
     "output_type": "stream",
     "text": [
      "OrderedDict([('country', 'Tajikistan'), ('lat', '39'), ('long', '71')])\n"
     ]
    }
   ],
   "source": [
    "import csv\n",
    "import random\n",
    "\n",
    "file_handle = open(\"Countries.csv\")\n",
    "reader = csv.DictReader(file_handle) # load the files into the reader\n",
    "countries = list(reader) # convert the reader into a list\n",
    "\n",
    "file_handle.close() # close the file\n",
    "\n",
    "randomcountry = random.choice(countries) # choose a random country from the new list\n",
    "\n",
    "guess = \"\"   \n",
    "attempts = 0\n",
    "unmatched = False   # initiate some variables\n",
    "\n",
    "print(randomcountry) # cheat and see the randomly selected country\n"
   ]
  },
  {
   "cell_type": "code",
   "execution_count": 72,
   "id": "b37029f8-d8a0-4ff7-886e-c37b2008b8c8",
   "metadata": {},
   "outputs": [
    {
     "name": "stdout",
     "output_type": "stream",
     "text": [
      "thailand\n",
      "I am located north of thailand\n",
      "I am located east of thailand\n",
      "togo\n",
      "I am located south of togo\n",
      "I am located east of togo\n",
      "slovenia\n",
      "I am located south of slovenia\n",
      "I am located east of slovenia\n",
      "tajikistan\n",
      "Well done! You have successfully indentified the country.\n"
     ]
    }
   ],
   "source": [
    "while guess != randomcountry['country'] and attempts < 10:\n",
    "    guess = random.choice(countries)\n",
    "    guess1 = guess['country']\n",
    "    guess2 = guess1.casefold()\n",
    "    attempts += 1\n",
    "    print(guess2)\n",
    "    if guess2 == randomcountry['country'].casefold():\n",
    "        print('Well done! You have successfully indentified the country.')\n",
    "        break\n",
    "    if attempts >= 10:\n",
    "        print('You are fresh out of guesses.')\n",
    "        break\n",
    "    for country in countries:\n",
    "\n",
    "        if guess2.casefold() == country['country'].casefold():\n",
    "            if randomcountry['lat'] > country['lat']:\n",
    "                print('I am located north of '+ guess2)\n",
    "            else:\n",
    "                print('I am located south of '+guess2)\n",
    "            \n",
    "            if randomcountry['long'] > country['long']:\n",
    "                print('I am located east of ' + guess2)\n",
    "            else:\n",
    "                print('I am located west of ' + guess2)"
   ]
  },
  {
   "cell_type": "code",
   "execution_count": null,
   "id": "12d242ce-fc35-4e01-9b26-99f5b850f657",
   "metadata": {},
   "outputs": [],
   "source": []
  },
  {
   "cell_type": "code",
   "execution_count": 33,
   "id": "5212f61b-2087-4efb-9fb7-a4b5516229f1",
   "metadata": {},
   "outputs": [
    {
     "name": "stdout",
     "output_type": "stream",
     "text": [
      "I am located south of czech republic\n"
     ]
    }
   ],
   "source": []
  },
  {
   "cell_type": "code",
   "execution_count": null,
   "id": "c5375b30-67b0-4874-a5ba-3d99b73a836b",
   "metadata": {},
   "outputs": [],
   "source": []
  }
 ],
 "metadata": {
  "kernelspec": {
   "display_name": "Python 3.7 (XPython)",
   "language": "python",
   "name": "xpython"
  },
  "language_info": {
   "file_extension": ".py",
   "mimetype": "text/x-python",
   "name": "python",
   "version": "3.7.9"
  }
 },
 "nbformat": 4,
 "nbformat_minor": 5
}
